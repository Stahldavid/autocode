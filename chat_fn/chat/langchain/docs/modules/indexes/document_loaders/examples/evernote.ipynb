{
 "cells": [
  {
   "cell_type": "markdown",
   "id": "56ac1584",
   "metadata": {},
   "source": [
    "# EverNote\n",
    "\n",
    ">[EverNote](https://evernote.com/) is intended for archiving and creating notes in which photos, audio and saved web content can be embedded. Notes are stored in virtual \"notebooks\" and can be tagged, annotated, edited, searched, and exported.\n",
    "\n",
    "This notebook shows how to load `EverNote` file from disk."
   ]
  },
  {
   "cell_type": "code",
   "execution_count": 3,
   "id": "1a53ece0",
   "metadata": {
    "tags": []
   },
   "outputs": [],
   "source": [
    "#!pip install pypandoc\n",
    "import pypandoc\n",
    "\n",
    "pypandoc.download_pandoc()"
   ]
  },
  {
   "cell_type": "code",
   "execution_count": 4,
   "id": "88df766f",
   "metadata": {
    "tags": []
   },
   "outputs": [
    {
     "data": {
      "text/plain": [
       "[Document(page_content='testing this\\n\\nwhat happens?\\n\\nto the world?\\n', metadata={'source': 'example_data/testing.enex'})]"
      ]
     },
     "execution_count": 4,
     "metadata": {},
     "output_type": "execute_result"
    }
   ],
   "source": [
    "from langchain.document_loaders import EverNoteLoader\n",
    "\n",
    "loader = EverNoteLoader(\"example_data/testing.enex\")\n",
    "loader.load()"
   ]
  }
 ],
 "metadata": {
  "kernelspec": {
   "display_name": "Python 3 (ipykernel)",
   "language": "python",
   "name": "python3"
  },
  "language_info": {
   "codemirror_mode": {
    "name": "ipython",
    "version": 3
   },
   "file_extension": ".py",
   "mimetype": "text/x-python",
   "name": "python",
   "nbconvert_exporter": "python",
   "pygments_lexer": "ipython3",
   "version": "3.10.6"
  }
 },
 "nbformat": 4,
 "nbformat_minor": 5
}
